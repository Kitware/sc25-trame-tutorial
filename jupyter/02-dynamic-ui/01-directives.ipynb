{
 "cells": [
  {
   "cell_type": "code",
   "execution_count": null,
   "id": "599a61e7-4fa8-4a1e-bdeb-5289c9c14c04",
   "metadata": {},
   "outputs": [],
   "source": [
    "from trame.app import get_server\n",
    "from trame.widgets import html\n",
    "from trame.ui.html import DivLayout\n",
    "\n",
    "server = get_server()"
   ]
  },
  {
   "cell_type": "code",
   "execution_count": null,
   "id": "f3821e53-2b9b-4387-8720-892224fcf041",
   "metadata": {},
   "outputs": [],
   "source": [
    "state = server.state\n",
    "\n",
    "\n",
    "@state.change(\"a\")\n",
    "def update_b(a, **_):\n",
    "    state.ul_li_list = [f\"Item {i + 1}\" for i in range(int(a))]"
   ]
  },
  {
   "cell_type": "code",
   "execution_count": null,
   "id": "ee27bd1f-fa6e-4a9a-ae80-57c363019c3a",
   "metadata": {},
   "outputs": [],
   "source": [
    "with DivLayout(server, height=300) as ui:\n",
    "    html.Div(\"The slider is at {{ a }}\")\n",
    "    html.Input(\n",
    "        type=\"range\",\n",
    "        min=0,\n",
    "        max=20,\n",
    "        step=1,\n",
    "        v_model=(\"a\", 0),  # Set a default value of 0 to variable \"a\"\n",
    "    )\n",
    "    html.Input(\n",
    "        type=\"range\",\n",
    "        min=0,\n",
    "        max=20,\n",
    "        step=1,\n",
    "        value=(\n",
    "            \"a\",\n",
    "        ),  # property v-model bind (:modelValue + @update:modelValue || :value + @input)\n",
    "        disabled=True,\n",
    "    )\n",
    "    with html.Ul():\n",
    "        with html.Li(\n",
    "            \"{{ name }}\",\n",
    "            key=\"idx\",\n",
    "            v_for=\"name, idx in ul_li_list\",\n",
    "            style=(\"{ color: idx > 3 ? 'red': 'green' }\",),\n",
    "        ):\n",
    "            html.Span(\n",
    "                \"(you are not alone)\",\n",
    "                v_if=\"idx > 0\",\n",
    "                style=(\"`font-weight: ${idx > 5 ? 'bold' : 'normal'}`\",),\n",
    "            )\n",
    "            html.Span(\"(you are alone)\", v_else=True)"
   ]
  },
  {
   "cell_type": "code",
   "execution_count": null,
   "id": "bfff8ea4-4fa4-4a9f-afba-28dc1c43136b",
   "metadata": {},
   "outputs": [],
   "source": [
    "await ui.ready\n",
    "ui"
   ]
  },
  {
   "cell_type": "code",
   "execution_count": null,
   "id": "6c9f4541-4abb-4193-b2bd-d8dfd40ac7dc",
   "metadata": {},
   "outputs": [],
   "source": []
  }
 ],
 "metadata": {
  "kernelspec": {
   "display_name": "Python 3 (ipykernel)",
   "language": "python",
   "name": "python3"
  },
  "language_info": {
   "codemirror_mode": {
    "name": "ipython",
    "version": 3
   },
   "file_extension": ".py",
   "mimetype": "text/x-python",
   "name": "python",
   "nbconvert_exporter": "python",
   "pygments_lexer": "ipython3",
   "version": "3.11.11"
  }
 },
 "nbformat": 4,
 "nbformat_minor": 5
}
