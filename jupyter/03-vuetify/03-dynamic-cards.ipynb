{
 "cells": [
  {
   "cell_type": "code",
   "execution_count": null,
   "id": "a659cba3-75fe-4ccb-a245-fc45b0e56286",
   "metadata": {},
   "outputs": [],
   "source": [
    "import random\n",
    "\n",
    "from trame.app import get_server\n",
    "from trame.ui.vuetify3 import VAppLayout\n",
    "from trame.widgets import html, vuetify3 as v3\n",
    "\n",
    "server = get_server()"
   ]
  },
  {
   "cell_type": "code",
   "execution_count": null,
   "id": "49f98d5f-4e35-4d74-a0c6-4b26c254bb22",
   "metadata": {},
   "outputs": [],
   "source": [
    "# ViewModel\n",
    "state = server.state\n",
    "\n",
    "TITLES = [\"Bandwidth Used\", \"Requests Served\"]\n",
    "VALUES = [\"1.01 TB\", \"7.96 M\", \"1.04 k\", \"0.54 GB\"]\n",
    "CHANGES = [\"-20.12%\", \"-7.73%\", \"+1.03%\", \"+50.34%\"]\n",
    "COLORS = [\"#da5656\", \"#2fc584\", \"#2196F3\", \"#03A9F4\", \"#1DE9B6\", \"#FFB74D\"]\n",
    "\n",
    "\n",
    "def generate_data():\n",
    "    return [random.randint(0, 10) for i in range(15)]\n",
    "\n",
    "\n",
    "def generate_card():\n",
    "    return {\n",
    "        \"title\": random.choice(TITLES),\n",
    "        \"value\": random.choice(VALUES),\n",
    "        \"change\": random.choice(CHANGES),\n",
    "        \"color\": random.choice(COLORS),\n",
    "        \"data\": generate_data(),\n",
    "    }\n",
    "\n",
    "\n",
    "@state.change(\"number_of_cards\")\n",
    "def update_cards(number_of_cards, **_):\n",
    "    state.cards = [generate_card() for i in range(number_of_cards)]\n"
   ]
  },
  {
   "cell_type": "code",
   "execution_count": null,
   "id": "34c1abed-5e5b-446a-9bbd-d55b0f82d757",
   "metadata": {},
   "outputs": [],
   "source": [
    "# View\n",
    "with VAppLayout(server) as layout:\n",
    "    with v3.VContainer():\n",
    "        v3.VSlider(\n",
    "            v_model=(\"number_of_cards\", 3),\n",
    "            min=1,\n",
    "            max=12,\n",
    "            step=1,\n",
    "        )\n",
    "        with v3.VRow(dense=True):\n",
    "            with v3.VCol(v_for=\"(card, i) in cards\", key=\"i\", cols=12, md=4):\n",
    "                with v3.VCard(elevation=4, rounded=\"lg\"):\n",
    "                    with html.Div(classes=\"pa-4\"):\n",
    "                        html.Div(\n",
    "                            \"{{ card.title }}\",\n",
    "                            classes=\"ps-4 text-caption text-medium-emphasis\",\n",
    "                        )\n",
    "                        with v3.VCardTitle(classes=\"pt-0 mt-n1 d-flex align-center\"):\n",
    "                            html.Div(\"{{ card.value }}\", classes=\"me-2\")\n",
    "                            with v3.VChip(\n",
    "                                label=True,\n",
    "                                color=(\"card.color\",),\n",
    "                                prepend_icon=(\n",
    "                                    \"`mdi-arrow-${card.change.startsWith('-') ? 'down' : 'up'}`\",\n",
    "                                ),\n",
    "                                size=\"x-small\",\n",
    "                            ):\n",
    "                                with html.Template(raw_attrs=[\"#prepend\"]):\n",
    "                                    v3.VIcon(size=10)\n",
    "                                html.Span(\"{{ card.change }}\", classes=\"text-caption\")\n",
    "\n",
    "                    v3.VSparkline(\n",
    "                        color=(\"card.color\",),\n",
    "                        fill=True,\n",
    "                        gradient=(\n",
    "                            \"[`${card.color}E6`, `${card.color}33`, `${card.color}00`]\",\n",
    "                        ),\n",
    "                        height=50,\n",
    "                        line_width=1,\n",
    "                        min=0,\n",
    "                        model_value=(\"card.data\",),\n",
    "                        padding=0,\n",
    "                        smooth=True,\n",
    "                    )"
   ]
  },
  {
   "cell_type": "code",
   "execution_count": null,
   "id": "6b719066-10e9-40d2-bc87-08d12c848ca0",
   "metadata": {},
   "outputs": [],
   "source": [
    "await layout.ready\n",
    "layout"
   ]
  },
  {
   "cell_type": "code",
   "execution_count": null,
   "id": "978780a2-1f4b-4b19-a3a4-a8cdcf3b6cea",
   "metadata": {},
   "outputs": [],
   "source": []
  }
 ],
 "metadata": {
  "kernelspec": {
   "display_name": "Python 3 (ipykernel)",
   "language": "python",
   "name": "python3"
  },
  "language_info": {
   "codemirror_mode": {
    "name": "ipython",
    "version": 3
   },
   "file_extension": ".py",
   "mimetype": "text/x-python",
   "name": "python",
   "nbconvert_exporter": "python",
   "pygments_lexer": "ipython3",
   "version": "3.11.11"
  }
 },
 "nbformat": 4,
 "nbformat_minor": 5
}
