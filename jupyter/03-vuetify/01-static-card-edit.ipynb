{
 "cells": [
  {
   "cell_type": "code",
   "execution_count": 1,
   "id": "0f5421c2-10d6-4863-9cdf-da67f96438ac",
   "metadata": {},
   "outputs": [],
   "source": [
    "from trame.app import get_server\n",
    "from trame.ui.vuetify3 import VAppLayout\n",
    "from trame.widgets import html, vuetify3 as v3\n",
    "\n",
    "# Trame setup -----------------------------------------------------------------\n",
    "server = get_server()"
   ]
  },
  {
   "cell_type": "code",
   "execution_count": 2,
   "id": "548462ec-931a-4346-9082-1b44ebd278f3",
   "metadata": {},
   "outputs": [],
   "source": [
    "# ViewModel -------------------------------------------------------------------\n",
    "state = server.state\n",
    "\n",
    "state.cards = [\n",
    "    {\n",
    "        \"title\": \"Bandwidth Used\",\n",
    "        \"value\": \"1.01 TB\",\n",
    "        \"change\": \"-20.12%\",\n",
    "        \"color\": \"#da5656\",\n",
    "        \"data\": [5, 2, 5, 9, 5, 10, 3, 5, 3, 7, 1, 8, 2, 9, 6],\n",
    "    },\n",
    "    {\n",
    "        \"title\": \"Requests Served\",\n",
    "        \"value\": \"7.96 M\",\n",
    "        \"change\": \"-7.73%\",\n",
    "        \"color\": \"#2fc584\",\n",
    "        \"data\": [1, 3, 8, 2, 9, 5, 10, 3, 5, 3, 7, 6, 8, 2, 9, 6],\n",
    "    },\n",
    "]\n",
    "\n",
    "# View ------------------------------------------------------------------------\n",
    "with VAppLayout(server) as layout:\n",
    "    with v3.VContainer():\n",
    "        with v3.VRow(dense=True):\n",
    "            with v3.VCol(v_for=\"(card, i) in cards\", key=\"i\", cols=12, md=4):\n",
    "                html.Pre(\"{{ JSON.stringify(card, null, 2) }}\", classes=\"border-thin\")\n",
    "                # Use App.vue template content and convert it to Python"
   ]
  },
  {
   "cell_type": "code",
   "execution_count": 3,
   "id": "ac0b5145-74e1-4ad5-b107-99f511a6b7a8",
   "metadata": {},
   "outputs": [
    {
     "data": {
      "text/html": [
       "<iframe id=\"trame_trame__template_main\" src=\"http://localhost:49827/index.html?ui=main&reconnect=auto\" style=\"border: none; width: 100%; height: 600px;\"></iframe>"
      ]
     },
     "metadata": {},
     "output_type": "display_data"
    }
   ],
   "source": [
    "await layout.ready\n",
    "layout"
   ]
  },
  {
   "cell_type": "code",
   "execution_count": null,
   "id": "bc00d775-d591-4627-befe-228c6e26c26a",
   "metadata": {},
   "outputs": [],
   "source": []
  }
 ],
 "metadata": {
  "kernelspec": {
   "display_name": "Python 3 (ipykernel)",
   "language": "python",
   "name": "python3"
  },
  "language_info": {
   "codemirror_mode": {
    "name": "ipython",
    "version": 3
   },
   "file_extension": ".py",
   "mimetype": "text/x-python",
   "name": "python",
   "nbconvert_exporter": "python",
   "pygments_lexer": "ipython3",
   "version": "3.11.11"
  }
 },
 "nbformat": 4,
 "nbformat_minor": 5
}
