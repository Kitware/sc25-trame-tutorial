{
 "cells": [
  {
   "cell_type": "code",
   "execution_count": null,
   "id": "461cea47-ca8d-4206-af65-e3f7a742f83b",
   "metadata": {
    "scrolled": true
   },
   "outputs": [],
   "source": [
    "from trame.app import get_server\n",
    "from trame.widgets import html\n",
    "from trame.ui.html import DivLayout"
   ]
  },
  {
   "cell_type": "code",
   "execution_count": null,
   "id": "828e5f31-694d-4759-97af-5f3e01e7ea70",
   "metadata": {},
   "outputs": [],
   "source": [
    "server = get_server()"
   ]
  },
  {
   "cell_type": "code",
   "execution_count": null,
   "id": "a0132eef-1ffb-4533-8445-0e555235a082",
   "metadata": {},
   "outputs": [],
   "source": [
    "# ViewModel\n",
    "state = server.state\n",
    "\n",
    "# Read/Write\n",
    "state.a = 1\n",
    "state[\"b\"] = state.a * 2\n",
    "assert state.b == state[\"b\"]\n",
    "\n",
    "\n",
    "# Reactivity\n",
    "@state.change(\"a\")\n",
    "def update_b(a, **_):\n",
    "    state.b = int(a) * 2\n",
    "\n",
    "\n",
    "@state.change(\"a\", \"b\")\n",
    "def update_log(**_):\n",
    "    msg = [\"\\nChanges to\"]\n",
    "    for var_name in state.modified_keys & {\"a\", \"b\"}:\n",
    "        msg.append(f\"{var_name}={state[var_name]}\")\n",
    "\n",
    "    state.log += \" \".join(msg)\n",
    "\n",
    "\n",
    "@state.change(\"log\")\n",
    "def trim_log(log, **_):\n",
    "    lines = log.split(\"\\n\")\n",
    "    if len(lines) > 10:\n",
    "        state.log = \"\\n\".join(lines[-10:])"
   ]
  },
  {
   "cell_type": "code",
   "execution_count": null,
   "id": "722ecfea-8844-4388-bf6b-72f65a8cc0bf",
   "metadata": {},
   "outputs": [],
   "source": [
    "# Model\n",
    "def reset_a():\n",
    "    state.a = 10"
   ]
  },
  {
   "cell_type": "code",
   "execution_count": null,
   "id": "4c52d85f-11b0-416f-944e-90b03393773b",
   "metadata": {},
   "outputs": [],
   "source": [
    "# View\n",
    "with DivLayout(server) as ui:\n",
    "    html.H1(\"Events and State\")\n",
    "\n",
    "    html.Div(\"a={{ a }} and b={{ b }}\")\n",
    "\n",
    "    html.H2(\"Events\")\n",
    "\n",
    "    html.Button(\"Reset a\", click=reset_a)\n",
    "    html.Button(\"Reset a & b\", click=\"setAll({ b:2, a:1 })\")\n",
    "    html.Button(\"Reset log\", click=\"log = ''\")\n",
    "\n",
    "    html.H2(\"States\")\n",
    "\n",
    "    html.Input(type=\"range\", min=0, max=10, v_model=\"a\")\n",
    "    html.Input(type=\"range\", min=0, max=30, v_model=\"b\")\n",
    "\n",
    "    html.Br()\n",
    "\n",
    "    html.Textarea(\n",
    "        v_model=(\"log\", \"\"),\n",
    "        disabled=True,\n",
    "        rows=12,\n",
    "        style=\"width: 15rem;\",\n",
    "    )"
   ]
  },
  {
   "cell_type": "code",
   "execution_count": null,
   "id": "4da40013-2563-4c32-b83f-3fe9b26e2615",
   "metadata": {},
   "outputs": [],
   "source": [
    "# Show in Jupyter\n",
    "await ui.ready\n",
    "ui"
   ]
  },
  {
   "cell_type": "code",
   "execution_count": null,
   "id": "9e80f627-0af0-4c3d-ba9f-26e40d946779",
   "metadata": {},
   "outputs": [],
   "source": [
    "# Edit state from jupyter\n",
    "with state:\n",
    "    state.a = 5"
   ]
  }
 ],
 "metadata": {
  "kernelspec": {
   "display_name": "Python 3 (ipykernel)",
   "language": "python",
   "name": "python3"
  },
  "language_info": {
   "codemirror_mode": {
    "name": "ipython",
    "version": 3
   },
   "file_extension": ".py",
   "mimetype": "text/x-python",
   "name": "python",
   "nbconvert_exporter": "python",
   "pygments_lexer": "ipython3",
   "version": "3.11.11"
  }
 },
 "nbformat": 4,
 "nbformat_minor": 5
}
