{
 "cells": [
  {
   "cell_type": "code",
   "execution_count": null,
   "id": "20c1da3a-a60f-4409-a18e-d7e04bba8007",
   "metadata": {},
   "outputs": [],
   "source": [
    "from trame.app import get_server\n",
    "from trame.widgets import html, client\n",
    "from trame.ui.html import DivLayout\n",
    "\n",
    "server = get_server()\n",
    "\n",
    "# Main view\n",
    "with DivLayout(server, height=110) as view_main:  # template_name=\"main\"\n",
    "    html.Div(\"Main View a={{a}} b={{b}}\")\n",
    "    client.ServerTemplate(name=\"view_a\")\n",
    "    client.ServerTemplate(name=\"view_b\")\n",
    "\n",
    "# view_a\n",
    "with DivLayout(server, height=50, template_name=\"view_a\") as view_a:\n",
    "    html.Div(\"View a={{a}}\")\n",
    "    html.Input(\n",
    "        type=\"range\",\n",
    "        min=0,\n",
    "        max=100,\n",
    "        step=1,\n",
    "        v_model=(\"a\", 0),  # Set a default value of 0 to variable \"a\"\n",
    "    )\n",
    "\n",
    "# view_b\n",
    "with DivLayout(server, height=50, template_name=\"view_b\") as view_b:\n",
    "    html.Div(\"View b={{b}}\")\n",
    "    html.Input(\n",
    "        type=\"range\",\n",
    "        min=0,\n",
    "        max=50,\n",
    "        step=2,\n",
    "        v_model=(\"b\", 2),  # Set a default value of 0 to variable \"b\"\n",
    "    )"
   ]
  },
  {
   "cell_type": "code",
   "execution_count": null,
   "id": "d11a3305-e513-483d-87db-5b3924e8bdca",
   "metadata": {},
   "outputs": [],
   "source": [
    "await view_main.ready\n",
    "view_main"
   ]
  },
  {
   "cell_type": "code",
   "execution_count": null,
   "id": "aef51087-4b0e-4aec-9e81-a7406e21139f",
   "metadata": {},
   "outputs": [],
   "source": [
    "view_a"
   ]
  },
  {
   "cell_type": "code",
   "execution_count": null,
   "id": "d937c9ca-651b-4781-82a8-8d57b3335c04",
   "metadata": {},
   "outputs": [],
   "source": [
    "view_b"
   ]
  },
  {
   "cell_type": "code",
   "execution_count": null,
   "id": "77e8adcb-e953-4c99-a0ee-56d010664367",
   "metadata": {},
   "outputs": [],
   "source": []
  }
 ],
 "metadata": {
  "kernelspec": {
   "display_name": "Python 3 (ipykernel)",
   "language": "python",
   "name": "python3"
  },
  "language_info": {
   "codemirror_mode": {
    "name": "ipython",
    "version": 3
   },
   "file_extension": ".py",
   "mimetype": "text/x-python",
   "name": "python",
   "nbconvert_exporter": "python",
   "pygments_lexer": "ipython3",
   "version": "3.11.11"
  }
 },
 "nbformat": 4,
 "nbformat_minor": 5
}
