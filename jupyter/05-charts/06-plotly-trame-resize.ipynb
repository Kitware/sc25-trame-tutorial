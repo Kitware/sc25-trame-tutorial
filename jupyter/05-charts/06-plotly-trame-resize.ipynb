{
 "cells": [
  {
   "cell_type": "code",
   "execution_count": null,
   "id": "a4cc7805-7162-4635-a6c2-ae9bf5011c0c",
   "metadata": {},
   "outputs": [],
   "source": [
    "import numpy as np\n",
    "import plotly.express as px\n",
    "import plotly.graph_objects as go\n",
    "from sklearn.linear_model import LinearRegression\n",
    "from sklearn.preprocessing import PolynomialFeatures\n",
    "\n",
    "\n",
    "def format_coefs(coefs):\n",
    "    equation_list = [f\"{coef}x^{i}\" for i, coef in enumerate(coefs)]\n",
    "    equation = \"$\" + \" + \".join(equation_list) + \"$\"\n",
    "\n",
    "    replace_map = {\"x^0\": \"\", \"x^1\": \"x\", \"+ -\": \"- \"}\n",
    "    for old, new in replace_map.items():\n",
    "        equation = equation.replace(old, new)\n",
    "\n",
    "    return equation\n",
    "\n",
    "\n",
    "def create_figure():\n",
    "    df = px.data.tips()\n",
    "    X = df.total_bill.values.reshape(-1, 1)\n",
    "    x_range = np.linspace(X.min(), X.max(), 100).reshape(-1, 1)\n",
    "\n",
    "    fig = px.scatter(df, x=\"total_bill\", y=\"tip\", opacity=0.65)\n",
    "    for degree in [1, 2, 3, 4]:\n",
    "        poly = PolynomialFeatures(degree)\n",
    "        poly.fit(X)\n",
    "        X_poly = poly.transform(X)\n",
    "        x_range_poly = poly.transform(x_range)\n",
    "\n",
    "        model = LinearRegression(fit_intercept=False)\n",
    "        model.fit(X_poly, df.tip)\n",
    "        y_poly = model.predict(x_range_poly)\n",
    "\n",
    "        equation = format_coefs(model.coef_.round(2))\n",
    "        fig.add_traces(go.Scatter(x=x_range.squeeze(), y=y_poly, name=equation))\n",
    "\n",
    "    return fig"
   ]
  },
  {
   "cell_type": "code",
   "execution_count": null,
   "id": "50b954ca-3787-436f-b46a-97b36a83c2d1",
   "metadata": {},
   "outputs": [],
   "source": [
    "from trame.app import get_server\n",
    "from trame.ui.html import DivLayout\n",
    "from trame.widgets import client, plotly as pltw\n",
    "\n",
    "FULL_SCREEN = \"#app { height: 100vh; with: 100vw; } body {margin: 0}\"\n",
    "\n",
    "class ChartApp:\n",
    "    def __init__(self, server=None):\n",
    "        self.server = get_server(server)\n",
    "        self.figure = create_figure()\n",
    "\n",
    "        with DivLayout(self.server) as self.ui:\n",
    "            self.ui.root.style = \"height: 100%;\"\n",
    "            client.Style(FULL_SCREEN)\n",
    "            pltw.Figure(self.figure)"
   ]
  },
  {
   "cell_type": "code",
   "execution_count": null,
   "id": "25dea58f-63c9-4890-a6a9-bff6738b8fc7",
   "metadata": {},
   "outputs": [],
   "source": [
    "app = ChartApp()\n",
    "await app.ui.ready\n",
    "app.ui"
   ]
  },
  {
   "cell_type": "code",
   "execution_count": null,
   "id": "2242b36e-7dae-4772-b3b0-437120d40424",
   "metadata": {},
   "outputs": [],
   "source": []
  }
 ],
 "metadata": {
  "kernelspec": {
   "display_name": "Python 3 (ipykernel)",
   "language": "python",
   "name": "python3"
  },
  "language_info": {
   "codemirror_mode": {
    "name": "ipython",
    "version": 3
   },
   "file_extension": ".py",
   "mimetype": "text/x-python",
   "name": "python",
   "nbconvert_exporter": "python",
   "pygments_lexer": "ipython3",
   "version": "3.11.11"
  }
 },
 "nbformat": 4,
 "nbformat_minor": 5
}
