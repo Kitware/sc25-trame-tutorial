{
 "cells": [
  {
   "cell_type": "code",
   "execution_count": null,
   "id": "b1b30953-acfb-47ab-8dda-d4357b45041e",
   "metadata": {},
   "outputs": [],
   "source": [
    "import altair as alt\n",
    "from vega_datasets import data\n",
    "\n",
    "def create_figure():\n",
    "    cars = data.cars()\n",
    "\n",
    "    # make the chart\n",
    "    chart = (\n",
    "        alt.Chart(cars)\n",
    "        .mark_point()\n",
    "        .encode(\n",
    "            x=\"Horsepower\",\n",
    "            y=\"Miles_per_Gallon\",\n",
    "            color=\"Origin\",\n",
    "        )\n",
    "        .properties(\n",
    "            width=\"container\",\n",
    "            height=\"container\",\n",
    "        )\n",
    "        .interactive()\n",
    "    )\n",
    "\n",
    "    return chart"
   ]
  },
  {
   "cell_type": "code",
   "execution_count": null,
   "id": "817f7bcd-54ee-42a6-b356-13bfff5d410e",
   "metadata": {},
   "outputs": [],
   "source": [
    "from trame.app import get_server\n",
    "from trame.ui.html import DivLayout\n",
    "from trame.widgets import vega, client\n",
    "\n",
    "FULL_SCREEN = \"#app { height: 100vh; with: 100vw; } body {margin: 0}\"\n",
    "\n",
    "class ChartApp:\n",
    "    def __init__(self, server=None):\n",
    "        self.server = get_server(server)\n",
    "        self.figure = create_figure()\n",
    "\n",
    "        with DivLayout(self.server) as self.ui:\n",
    "            self.ui.root.style = \"height: 100%;\"\n",
    "            client.Style(FULL_SCREEN)\n",
    "            vega.Figure(self.figure, style=\"width: 100%;height: 100%;\")"
   ]
  },
  {
   "cell_type": "code",
   "execution_count": null,
   "id": "51cbcb13-8e0c-4358-96d4-3295138c1d9e",
   "metadata": {},
   "outputs": [],
   "source": [
    "app = ChartApp()\n",
    "await app.ui.ready\n",
    "app.ui"
   ]
  },
  {
   "cell_type": "code",
   "execution_count": null,
   "id": "ec32d9f2-0148-4956-9146-4220be9942a9",
   "metadata": {},
   "outputs": [],
   "source": []
  }
 ],
 "metadata": {
  "kernelspec": {
   "display_name": "Python 3 (ipykernel)",
   "language": "python",
   "name": "python3"
  },
  "language_info": {
   "codemirror_mode": {
    "name": "ipython",
    "version": 3
   },
   "file_extension": ".py",
   "mimetype": "text/x-python",
   "name": "python",
   "nbconvert_exporter": "python",
   "pygments_lexer": "ipython3",
   "version": "3.11.11"
  }
 },
 "nbformat": 4,
 "nbformat_minor": 5
}
