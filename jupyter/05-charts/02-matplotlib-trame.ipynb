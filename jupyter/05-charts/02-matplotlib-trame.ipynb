{
 "cells": [
  {
   "cell_type": "code",
   "execution_count": null,
   "id": "dc5a1ccb-af86-4cf5-975f-c2a17cdbca9c",
   "metadata": {},
   "outputs": [],
   "source": [
    "import numpy as np\n",
    "import matplotlib.pyplot as plt\n",
    "\n",
    "def setup_matplotlib():\n",
    "    x = np.linspace(0, 2 * np.pi, 200)\n",
    "    y = np.sin(x)\n",
    "\n",
    "    fig, ax = plt.subplots()\n",
    "    ax.plot(x, y)\n",
    "\n",
    "    return fig"
   ]
  },
  {
   "cell_type": "code",
   "execution_count": null,
   "id": "17ee432c-fe15-448f-a62f-2c2e9f18a41b",
   "metadata": {},
   "outputs": [],
   "source": [
    "from trame.app import get_server\n",
    "from trame.ui.html import DivLayout\n",
    "from trame.widgets import matplotlib as mplw\n",
    "\n",
    "class ChartApp:\n",
    "    def __init__(self, server=None):\n",
    "        self.server = get_server(server)\n",
    "        self.figure = setup_matplotlib()\n",
    "\n",
    "        with DivLayout(self.server) as self.ui:\n",
    "            mplw.Figure(self.figure)"
   ]
  },
  {
   "cell_type": "code",
   "execution_count": null,
   "id": "7f09b06a-ae60-43b1-971e-5d553fc0c7dd",
   "metadata": {},
   "outputs": [],
   "source": [
    "app = ChartApp()\n",
    "await app.ui.ready"
   ]
  },
  {
   "cell_type": "code",
   "execution_count": null,
   "id": "6bddb116-96a5-43d9-9ec6-3df89335638a",
   "metadata": {},
   "outputs": [],
   "source": [
    "app.ui"
   ]
  }
 ],
 "metadata": {
  "kernelspec": {
   "display_name": "Python 3 (ipykernel)",
   "language": "python",
   "name": "python3"
  },
  "language_info": {
   "codemirror_mode": {
    "name": "ipython",
    "version": 3
   },
   "file_extension": ".py",
   "mimetype": "text/x-python",
   "name": "python",
   "nbconvert_exporter": "python",
   "pygments_lexer": "ipython3",
   "version": "3.11.11"
  }
 },
 "nbformat": 4,
 "nbformat_minor": 5
}
