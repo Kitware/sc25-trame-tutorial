{
 "cells": [
  {
   "cell_type": "code",
   "execution_count": null,
   "id": "2bdb20c3-b285-4e45-bbbf-8f115a2f2ad3",
   "metadata": {},
   "outputs": [],
   "source": [
    "import numpy as np\n",
    "import matplotlib.pyplot as plt\n",
    "\n",
    "def setup_matplotlib():\n",
    "    x = np.linspace(0, 2 * np.pi, 200)\n",
    "    y = np.sin(x)\n",
    "\n",
    "    fig, ax = plt.subplots()\n",
    "    ax.plot(x, y)\n",
    "\n",
    "    return fig"
   ]
  },
  {
   "cell_type": "code",
   "execution_count": null,
   "id": "cb9b86b8-f932-4e42-97fe-915163d0f20f",
   "metadata": {},
   "outputs": [],
   "source": [
    "from trame.app import get_server\n",
    "from trame.ui.html import DivLayout\n",
    "from trame.widgets import matplotlib as mplw, client\n",
    "from trame.decorators import TrameApp, change\n",
    "\n",
    "STYLE_NO_SIZE = \"position: absolute; top: 0; left: 0; width: 100%; height: 100%;\"\n",
    "FULL_SCREEN = \"#app { height: 100vh; with: 100vw; } body {margin: 0}\"\n",
    "\n",
    "@TrameApp()\n",
    "class ChartApp:\n",
    "    def __init__(self, server=None):\n",
    "        self.server = get_server(server)\n",
    "        self.figure = setup_matplotlib()\n",
    "\n",
    "        with DivLayout(self.server) as layout:\n",
    "            self.ui = layout\n",
    "            client.Style(FULL_SCREEN)\n",
    "            layout.root.style = \"height: 100%;\"\n",
    "            with client.SizeObserver(\"fig_size\"):\n",
    "                self.ctrl.update = mplw.Figure(self.figure, style=STYLE_NO_SIZE).update\n",
    "\n",
    "    @property\n",
    "    def ctrl(self):\n",
    "        return self.server.controller\n",
    "\n",
    "    @change(\"fig_size\")\n",
    "    def on_size(self, fig_size, **_):\n",
    "        if fig_size is None:\n",
    "            return\n",
    "\n",
    "        dpi = fig_size.get(\"dpi\")\n",
    "        size = fig_size.get(\"size\")\n",
    "\n",
    "        width = size.get(\"width\")\n",
    "        height = size.get(\"height\")\n",
    "\n",
    "        # size in inch\n",
    "        self.figure.set_figwidth(2 * width / dpi) # The x2 is a mistery\n",
    "        self.figure.set_figheight(2 * height / dpi) # The x2 is a mistery\n",
    "\n",
    "        self.ctrl.update(self.figure)"
   ]
  },
  {
   "cell_type": "code",
   "execution_count": null,
   "id": "57d48c80-64c1-4a91-91de-8d080fdf7383",
   "metadata": {},
   "outputs": [],
   "source": [
    "app = ChartApp()\n",
    "await app.ui.ready"
   ]
  },
  {
   "cell_type": "code",
   "execution_count": null,
   "id": "82776b74-53f7-4900-ba11-5d370cd253ab",
   "metadata": {},
   "outputs": [],
   "source": [
    "app.ui"
   ]
  },
  {
   "cell_type": "code",
   "execution_count": null,
   "id": "e468d8cc-11a8-4078-9a90-e3e37ef899c0",
   "metadata": {},
   "outputs": [],
   "source": []
  }
 ],
 "metadata": {
  "kernelspec": {
   "display_name": "Python 3 (ipykernel)",
   "language": "python",
   "name": "python3"
  },
  "language_info": {
   "codemirror_mode": {
    "name": "ipython",
    "version": 3
   },
   "file_extension": ".py",
   "mimetype": "text/x-python",
   "name": "python",
   "nbconvert_exporter": "python",
   "pygments_lexer": "ipython3",
   "version": "3.11.11"
  }
 },
 "nbformat": 4,
 "nbformat_minor": 5
}
