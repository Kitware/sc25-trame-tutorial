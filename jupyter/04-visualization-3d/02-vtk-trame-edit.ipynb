{
 "cells": [
  {
   "cell_type": "code",
   "execution_count": null,
   "id": "bf6f6eb8-4be3-4c9e-96c3-f5b55310878d",
   "metadata": {},
   "outputs": [],
   "source": [
    "from vtkmodules.vtkInteractionStyle import vtkInteractorStyleSwitch  # noqa\n",
    "import vtkmodules.vtkRenderingOpenGL2  # noqa\n",
    "\n",
    "from vtkmodules.vtkRenderingCore import (\n",
    "    vtkRenderWindow,\n",
    "    vtkRenderWindowInteractor,\n",
    "    vtkRenderer,\n",
    ")\n",
    "\n",
    "\n",
    "def setup_vtk():\n",
    "    renderer = vtkRenderer()\n",
    "\n",
    "    renderWindow = vtkRenderWindow()\n",
    "    renderWindow.AddRenderer(renderer)\n",
    "\n",
    "    interactor = vtkRenderWindowInteractor()\n",
    "    interactor.SetRenderWindow(renderWindow)\n",
    "    interactor.GetInteractorStyle().SetCurrentStyleToTrackballCamera()\n",
    "\n",
    "    return renderWindow"
   ]
  },
  {
   "cell_type": "code",
   "execution_count": null,
   "id": "8a3da15a-4378-4713-a7bc-e2de267f089d",
   "metadata": {},
   "outputs": [],
   "source": [
    "from trame.app import get_server\n",
    "from trame.ui.vuetify3 import SinglePageLayout\n",
    "from trame.widgets import vuetify3 as v3, vtk as vtkw\n",
    "from trame.decorators import TrameApp, change\n",
    "\n",
    "@TrameApp()\n",
    "class VtkApp:\n",
    "    def __init__(self, server=None):\n",
    "        self.server = get_server(server)\n",
    "        self.render_window = setup_vtk()\n",
    "        self._build_ui()\n",
    "\n",
    "    @property\n",
    "    def ctrl(self):\n",
    "        return self.server.controller\n",
    "\n",
    "    @change(\"u_range\", \"v_range\")\n",
    "    def on_change(self, u_range, v_range, **_):\n",
    "        # make method call to vtk object\n",
    "        self.ctrl.view_update()\n",
    "\n",
    "    def _build_ui(self):\n",
    "        with SinglePageLayout(self.server, full_height=True, height=300) as layout:\n",
    "            self.ui = layout\n",
    "            with layout.toolbar.clear() as tb:\n",
    "                tb.density = \"compact\"\n",
    "                v3.VRangeSlider(\n",
    "                    label=\"U\",\n",
    "                    v_model=(\"u_range\", [-4.5, 4.5]),\n",
    "                    min=-4.5,\n",
    "                    max=4.5,\n",
    "                    step=0.1,\n",
    "                    density=\"compact\",\n",
    "                    hide_details=True,\n",
    "                    classes=\"mx-4\",\n",
    "                )\n",
    "                v3.VRangeSlider(\n",
    "                    label=\"V\",\n",
    "                    v_model=(\"v_range\", [0.05, 3.14159 - 0.05]),\n",
    "                    min=0.05,\n",
    "                    max=3.14159 - 0.05,\n",
    "                    step=0.05,\n",
    "                    density=\"compact\",\n",
    "                    hide_details=True,\n",
    "                    classes=\"mx-4\",\n",
    "                )\n",
    "\n",
    "            with layout.content:\n",
    "                with v3.VContainer(fluid=True, classes=\"ma-0 pa-0 h-100\"):\n",
    "                    with vtkw.VtkRemoteView(\n",
    "                        self.render_window, interactive_ratio=1\n",
    "                    ) as view:\n",
    "                        self.ctrl.view_update = view.update\n",
    "                        self.ctrl.view_reset_camera = view.reset_camera\n"
   ]
  },
  {
   "cell_type": "code",
   "execution_count": null,
   "id": "d3b657a2-08a9-42e5-8b29-8f018a74897d",
   "metadata": {},
   "outputs": [],
   "source": [
    "app = VtkApp()\n",
    "await app.ui.ready\n",
    "app.ui"
   ]
  },
  {
   "cell_type": "code",
   "execution_count": null,
   "id": "e80c2c8a-bbd9-47ef-9fa3-6c86eb6dc278",
   "metadata": {},
   "outputs": [],
   "source": []
  }
 ],
 "metadata": {
  "kernelspec": {
   "display_name": "Python 3 (ipykernel)",
   "language": "python",
   "name": "python3"
  },
  "language_info": {
   "codemirror_mode": {
    "name": "ipython",
    "version": 3
   },
   "file_extension": ".py",
   "mimetype": "text/x-python",
   "name": "python",
   "nbconvert_exporter": "python",
   "pygments_lexer": "ipython3",
   "version": "3.11.11"
  }
 },
 "nbformat": 4,
 "nbformat_minor": 5
}
